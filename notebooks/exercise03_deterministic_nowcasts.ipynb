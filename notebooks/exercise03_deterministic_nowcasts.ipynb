{
 "cells": [
  {
   "cell_type": "markdown",
   "metadata": {
    "id": "8f2joAl0_4h8"
   },
   "source": [
    "<a href=\"https://colab.research.google.com/github/pySTEPS/ERAD-nowcasting-course-2022/blob/hands-on-users/hands-on-session-users/notebooks/block_04_deterministic_nowcasts.ipynb\" target=\"_parent\"><img src=\"https://colab.research.google.com/assets/colab-badge.svg\" alt=\"Open In Colab\"/></a>"
   ]
  },
  {
   "cell_type": "markdown",
   "metadata": {
    "id": "r7fy_7Mb9anF"
   },
   "source": [
    "# Exercise 3: Nowcasting methods\n",
    "\n",
    "Now that you know the basics of working with radar data and applying advection schemes, we can continue with the application of different deterministic and probabilistic nowcasting methods. \n",
    "\n",
    "In this exercise, we show how to construct, visualize and apply verification metrics to deterministic and probabilistic nowcasts using pysteps.\n"
   ]
  },
  {
   "cell_type": "markdown",
   "metadata": {
    "id": "HSfnhArguSvF"
   },
   "source": [
    "## Load the data from the previous exercises\n",
    "\n",
    "First we install pysteps, load and preprocess the example data again by running the helper_nowcasting_methods notebook.\n",
    "\n",
    "This helper notebook imports the FMI radar data, dBR transforms it and determines the motion field with the Lucas-Kanada optical flow method. The precipitation data is split in a part for forecasting, called `precip_finite`, which is already dBR transformed and not-a-number values have been filled with a minimum value, and a part that will be used as observations (`precip_obs`) for model verification of the nowcasts. \n",
    "\n",
    "The metadata corresponding to `precip_finite` is `metadata_dbr` and the metadata of `precip_obs` is `metadata`. \n",
    "\n",
    "Finally the motion field variable is called `motion_field`. You can use these variables in these exercises."
   ]
  },
  {
   "cell_type": "code",
   "execution_count": null,
   "metadata": {
    "id": "xQlPAF19VEny"
   },
   "outputs": [],
   "source": [
    "from google.colab import drive\n",
    "import os\n",
    "# mount the Google Drive folder\n",
    "# don't attempt to remount if the drive is already mounted\n",
    "if not os.path.exists(\"/content/mnt/MyDrive\"):\n",
    "  drive.mount(\"mnt\")\n",
    "%cd '/content/mnt/MyDrive/Colab Notebooks'\n",
    "# run the data notebook to load the input dataset\n",
    "%run helper_nowcasting_methods.ipynb"
   ]
  },
  {
   "cell_type": "markdown",
   "metadata": {
    "id": "eYO-3-qc-wEx"
   },
   "source": [
    "# Deterministic nowcasts\n",
    "\n",
    "In the deterministic nowcasting part, we will use the loaded radar dataset from FMI to create a precipitation nowcast and calculate different verification metrics to assess the skill of the nowcast compared to observations.\n",
    "\n",
    "The first step is to make a nowcast using the **extrapolation** nowcasting method that simply extrapolates the last observed precipitation field along the motion field. You can follow the example in the [PySTEPS example gallery](https://pysteps.readthedocs.io/en/stable/auto_examples/plot_extrapolation_nowcast.html#sphx-glr-auto-examples-plot-extrapolation-nowcast-py). Calculate the nowcasts for 12 leadtimes, i.e. for 1 hour, and visualize some nowcasts with the observations. The semi-Lagrangian extrapolation method has some keyword arguments that can improve the quality of the nowcast depending on the data. For a full list of the arguments, see the [pySTEPS documentation](https://pysteps.readthedocs.io/en/latest/generated/pysteps.extrapolation.semilagrangian.extrapolate.html).\n",
    "\n",
    "As rainfall fields can grow and dissipate, a simple extrapolation nowcast probably does not provide sufficient predictability for rainfall forecasts up to a few hours into the future. A first step in this direction was the so-called S-PROG model, a deterministic predecessor of the popular STEPS model (more about that lateR), which makes use of decades of rainfall field research that points out that the lifetime of rainfall cells is related to the spatial extent of these rainfall cells. Hence, larger fields (e.g. stratiform rainfall) have a longer lifetime than smaller rainfall fields (e.g. thunderstorms). S-PROG distinguishes these scales with a Fast Fourier transform and filters out the smallest rainfall fields (with the shortest lifetimes) for increasing lead times. The advantage is that we only put emphasis on the rainfall fields that we can model relatively well, but the disadvantage is that we get a more smoothed rainfall forecast. The probabilistic follow up of this method, STEPS, uses stochastic perturbations to add new small scale rainfall fields to overcome this problem. More about that in the probabilistic nowcasting part. \n",
    "\n",
    "Run the code below to construct a simple extrapolation and an S-PROG nowcast and visualize it with the subsequent code block. How good are these rainfall forecasts?\n"
   ]
  },
  {
   "cell_type": "code",
   "execution_count": null,
   "metadata": {
    "id": "mV3RYv7c-uEU"
   },
   "outputs": [],
   "source": [
    "from matplotlib import pyplot as plt\n",
    "import numpy as np\n",
    "\n",
    "from pysteps import nowcasts\n",
    "from pysteps.visualization import plot_precip_field\n",
    "%matplotlib inline\n",
    "\n",
    "# Set nowcast parameters\n",
    "n_leadtimes = 12\n",
    "\n",
    "# The extrapolation method has some keyword arguments that can be used to control the nowcasting\n",
    "extrap_kwargs = {\n",
    "  \"allow_nonfinite_values\": False,\n",
    "  \"interp_order\": 1,\n",
    "}\n",
    "\n",
    "# The extrapolation nowcast\n",
    "nowcast_method = nowcasts.get_method(\"extrapolation\")\n",
    "precip_extrap = nowcast_method(\n",
    "    precip_finite[-1:, :, :].squeeze(),\n",
    "    motion_field,\n",
    "    timesteps=n_leadtimes,\n",
    "    extrap_method=\"semilagrangian\",\n",
    "    extrap_kwargs=extrap_kwargs,\n",
    ")\n",
    "\n",
    "# Back-transform the results from dBR to rain rates\n",
    "precip_extrap = transformation.dB_transform(\n",
    "    precip_extrap, \n",
    "    threshold=metadata_dbr[\"threshold\"], \n",
    "    inverse=True\n",
    "    )[0]\n",
    "\n",
    "# Calculate the S-PROG nowcast for comparison\n",
    "# S-PROG requires as many input fields as 1 + degree of the AR process\n",
    "# and some other arguments\n",
    "nowcast_method = nowcasts.get_method(\"sprog\")\n",
    "precip_sprog = nowcast_method(\n",
    "    precip_finite[-3:, :, :],\n",
    "    motion_field,\n",
    "    timesteps=n_leadtimes,\n",
    "    n_cascade_levels=6,\n",
    "    R_thr=metadata_dbr[\"threshold\"],\n",
    ")\n",
    "\n",
    "# Back-transform the results from dBR to rain rates\n",
    "precip_sprog = transformation.dB_transform(\n",
    "    precip_sprog, \n",
    "    threshold=metadata_dbr[\"threshold\"], \n",
    "    inverse=True\n",
    "    )[0]\n"
   ]
  },
  {
   "cell_type": "markdown",
   "metadata": {
    "id": "MJAS-yUMtH_t"
   },
   "source": [
    "### Visualize the results\n",
    "\n",
    "Visualize the observations and the nowcasts for a few lead times. An example on how to do this is provided in [the STEPS nowcast gallery example](https://pysteps.readthedocs.io/en/latest/auto_examples/plot_steps_nowcast.html#stochastic-nowcast-with-steps). You can plot the observations on one row and the corresponding nowcasts below them."
   ]
  },
  {
   "cell_type": "code",
   "execution_count": null,
   "metadata": {
    "id": "gEd8CUtRs-i8"
   },
   "outputs": [],
   "source": [
    "# Disable warnings\n",
    "import warnings\n",
    "warnings.filterwarnings(\"ignore\")\n",
    "\n",
    "plt.figure(figsize=(16, 12))\n",
    "# First plot the observations\n",
    "for i, j in enumerate(range(2, 13, 3)):\n",
    "    plt.subplot(3, 4, 1 + i)\n",
    "    plot_precip_field(\n",
    "        precip_obs[j], \n",
    "        geodata=metadata, \n",
    "        colorscale=\"STEPS-NL\", \n",
    "        colorbar=False\n",
    "        )\n",
    "    plt.title(f\"Observation at +{(j + 1) * 5} minutes\")\n",
    "\n",
    "# We'll plot the nowcast for four lead times\n",
    "for i, j in enumerate(range(2, 13, 3)):\n",
    "    plt.subplot(3, 4, 5 + i)\n",
    "    plot_precip_field(\n",
    "        precip_extrap[j], \n",
    "        geodata=metadata, \n",
    "        colorscale=\"STEPS-NL\", \n",
    "        colorbar=False\n",
    "        )\n",
    "    plt.title(f\"Extrap. nowcast +{(j + 1) * 5} minutes\")\n",
    "\n",
    "for i, j in enumerate(range(2, 13, 3)):\n",
    "    plt.subplot(3, 4, 9 + i)\n",
    "    plot_precip_field(\n",
    "        precip_sprog[j], \n",
    "        geodata=metadata, \n",
    "        colorscale=\"STEPS-NL\", \n",
    "        colorbar=False\n",
    "        )\n",
    "    plt.title(f\"S-PROG. nowcast +{(j + 1) * 5} minutes\")\n"
   ]
  },
  {
   "cell_type": "markdown",
   "metadata": {
    "id": "NqgiCq7Oymb6"
   },
   "source": [
    "### Deterministic nowcast verification\n",
    "\n",
    "\n",
    "After creating the nowcasts, calculate and visualize the probability of detection (POD), false alarm ratio (FAR), critical success index (CSI), and the mean error (ME) for the nowcast as a function of leadtime. This is simple verification that is suitable for deterministic forecasting method. Pysteps actually provides many verification metrics, which can be helpful in your own projects.\n",
    "\n",
    "Run the code below. How does the S-PROG forecast compare to the simple extrapolation-based forecast?"
   ]
  },
  {
   "cell_type": "code",
   "execution_count": null,
   "metadata": {
    "id": "A9fIjJ0Eyl6X"
   },
   "outputs": [],
   "source": [
    "from collections import defaultdict\n",
    "from pysteps import verification\n",
    "\n",
    "\n",
    "scales = [2, 4, 8, 16, 32, 64, 128, 256, 512]\n",
    "thr = 1.0\n",
    "cat_scores = [\"POD\", \"FAR\", \"CSI\"]\n",
    "cont_scores = [\"ME\", ]\n",
    "score = []\n",
    "score_baseline = []\n",
    "score_sprog = []\n",
    "score_steps = []\n",
    "\n",
    "# Calculate scores for each leadtime\n",
    "cat_extrap_scores = defaultdict(list)\n",
    "cat_sprog_scores = defaultdict(list)\n",
    "cont_extrap_scores = defaultdict(list)\n",
    "cont_sprog_scores = defaultdict(list)\n",
    "\n",
    "for i in range(n_leadtimes):\n",
    "    extrap_score = verification.detcatscores.det_cat_fct(precip_extrap[i], precip_obs[i], thr=thr, scores=cat_scores)\n",
    "    sprog_score = verification.detcatscores.det_cat_fct(precip_sprog[i], precip_obs[i], thr=thr, scores=cat_scores)\n",
    "\n",
    "    for name in cat_scores:\n",
    "        cat_extrap_scores[name].append(extrap_score[name])\n",
    "        cat_sprog_scores[name].append(sprog_score[name])\n",
    "\n",
    "    extrap_score = verification.detcontscores.det_cont_fct(precip_extrap[i], precip_obs[i], scores=cont_scores)\n",
    "    sprog_score = verification.detcontscores.det_cont_fct(precip_sprog[i], precip_obs[i], scores=cont_scores)\n",
    "\n",
    "    for name in cont_scores:\n",
    "        cont_extrap_scores[name].append(extrap_score[name])\n",
    "        cont_sprog_scores[name].append(sprog_score[name])\n",
    "\n",
    "# Plot scores\n",
    "\n",
    "plt.figure(figsize=(16, 16))\n",
    "x = np.arange(1, n_leadtimes + 1) * metadata[\"accutime\"]\n",
    "\n",
    "plt.subplot(2, 2, 1)\n",
    "plt.plot(x, cat_extrap_scores[\"POD\"], label=\"Extrapolation\")\n",
    "plt.plot(x, cat_sprog_scores[\"POD\"], label=\"S-PROG\")\n",
    "plt.ylim([0, 1])\n",
    "plt.xlabel(\"Lead time [min]\")\n",
    "plt.ylabel(f\"POD (> {thr} mm/h) \")\n",
    "plt.title(\"Probability of detection\")\n",
    "plt.legend()\n",
    "plt.grid()\n",
    "\n",
    "plt.subplot(2, 2, 2)\n",
    "plt.plot(x, cat_extrap_scores[\"FAR\"], label=\"Extrapolation\")\n",
    "plt.plot(x, cat_sprog_scores[\"FAR\"], label=\"S-PROG\")\n",
    "plt.ylim([0, 1])\n",
    "plt.xlabel(\"Lead time [min]\")\n",
    "plt.ylabel(f\"FAR (> {thr} mm/h) \")\n",
    "plt.title(\"False Alarm Ratio\")\n",
    "plt.legend()\n",
    "plt.grid()\n",
    "\n",
    "plt.subplot(2, 2, 3)\n",
    "plt.plot(x, cat_extrap_scores[\"CSI\"], label=\"Extrapolation\")\n",
    "plt.plot(x, cat_sprog_scores[\"CSI\"], label=\"S-PROG\")\n",
    "plt.ylim([0, 1])\n",
    "plt.xlabel(\"Lead time [min]\")\n",
    "plt.ylabel(f\"CSI (> {thr} mm/h) \")\n",
    "plt.title(\"Critical Success Index\")\n",
    "plt.legend()\n",
    "plt.grid()\n",
    "\n",
    "plt.subplot(2, 2, 4)\n",
    "plt.plot(x, cont_extrap_scores[\"ME\"], label=\"Extrapolation\")\n",
    "plt.plot(x, cont_sprog_scores[\"ME\"], label=\"S-PROG\")\n",
    "plt.xlabel(\"Lead time [min]\")\n",
    "plt.ylabel(f\"ME [mm/h] \")\n",
    "plt.title(\"Mean Error\")\n",
    "plt.legend()\n",
    "plt.grid()\n",
    "\n"
   ]
  },
  {
   "cell_type": "markdown",
   "metadata": {
    "id": "p-5iHNUhR6A7"
   },
   "source": [
    "### More advanced deterministic nowcasting\n",
    "\n",
    "As you have noticed by now, S-PROG gives a too smoothed result. It is generally better than simple extrapolation only, especially for longer lead times, but it lacks the possibility of creating new rainfall cells, which makes it not suitable for convective conditions. \n",
    "\n",
    "The [LINDA model](https://pysteps.readthedocs.io/en/stable/auto_examples/linda_nowcasts.html#sphx-glr-auto-examples-linda-nowcasts-py) (Lagrangian INtegro-Difference equation model with\n",
    "Autoregression) in pysteps combines the most state-of-the-art research intothe latest nowcasting methods, such as simple extrapolation, S-PROG, STEPS, ANVIL and cell tracking methods. It combines this with an\n",
    "integro-difference equation (IDE), which can account for growth and dissipation of rainfall that was already observable in the past radar observations. If growth and dissipation was not observable in the past radar observations, the LINDA model will still not model it, but in other cases this is a great step forward. LINDA is specifically designed for nowcasting intense localized rainfall. For this purpose, it is expected to give better forecast skill than S-PROG or, when we are moving into probabilistic nowcasts, STEPS.\n",
    "\n",
    "Use the code block below to create a deterministic LINDA nowcast and copy the previous visualization code block to visualize this code block. Note that a forecast with the LINDA method takes longer than using S-PROG. If you have time, you can even use some verification metrics on the forecast. How does this forecast relate to the previous ones?"
   ]
  },
  {
   "cell_type": "code",
   "execution_count": null,
   "metadata": {
    "id": "ECkqimXaYC-k"
   },
   "outputs": [],
   "source": [
    "# Compute the probabilistic LINDA nowcast\n",
    "nowcast_linda = nowcasts.linda.forecast(\n",
    "    precip_fields=precip_finite[-3:, :, :],\n",
    "    advection_field=motion_field,\n",
    "    timesteps=n_leadtimes,\n",
    "    max_num_features=15,\n",
    "    add_perturbations=False, # This should be set to true for a probabilistic forecast\n",
    "    num_ens_members=1,\n",
    "    num_workers=4,\n",
    "    measure_time=True,\n",
    "    seed=None,\n",
    ")[0]"
   ]
  },
  {
   "cell_type": "code",
   "execution_count": 12,
   "metadata": {
    "id": "pon_AIASYKSz"
   },
   "outputs": [],
   "source": [
    "# Plot the forecast here using the visualization code of the previous code blocks.\n"
   ]
  },
  {
   "cell_type": "markdown",
   "metadata": {
    "id": "_XGAlCHaZu8c"
   },
   "source": [
    "As you probably have noticed, LINDA has focussed more on the convective cells. For this stratiform example, this may not give the best results. However, this method is worth exploring for more convective rainfall systems and becomes powerful when run in ensemble mode."
   ]
  },
  {
   "cell_type": "markdown",
   "metadata": {
    "id": "c2QsZIzraCy7"
   },
   "source": [
    "## Probabilistic nowcasts\n",
    "\n",
    "In this part of the exercise, we are basically going to repeat the steps of the deterministic nowcast, but we will construct a probabilistic nowcast with 10 ensemble members and verify this nowcast accordingly. \n",
    "If time allows, you can also try to make a LINDA-P (probabilistic) nowcast.\n",
    "\n",
    "The first step is to make a probablistic nowcast using the STEPS approach that is explained in [the STEPS nowcast gallery example](https://pysteps.readthedocs.io/en/latest/auto_examples/plot_steps_nowcast.html#stochastic-nowcast-with-steps). STEPS is the follow up from the S-PROG model you have used and it extends the scale-dependent nowcasting implementation of S-PROG with a stochastic perturbator that can add and dissipate rainfall per ensemble member. In STEPS, most perturbations will take place on the smallest spatial scales from the fast Fourier transform, as this is the scale where the lifetime of the rainfall fields is lowest and the uncertainty in the forecast is highest. Hence, you can see STEPS as a stochastic way of taking into account the physical processes for rainfall growth and dissipation. \n",
    "\n",
    "We are going to make an ensemble nowcast with 10 ensemble members and 12 lead times of 5 min (one hour in total). For a list of all options in the STEPS nowcast, see the [pysteps documentation](https://pysteps.readthedocs.io/en/latest/pysteps_reference/nowcasts.html#pysteps-nowcasts-steps). Run the code blocks below to create and visualize the ensemble nowcasts. Note that this take a little bit longer than the deterministic nowcasts (but note how much faster this is than a typical NWP forecast!). \n",
    "\n",
    "What can you say about the quality of these nowcasts compared to just a deterministic nowcasts as you've made earlier?"
   ]
  },
  {
   "cell_type": "code",
   "execution_count": null,
   "metadata": {
    "id": "PT2WCdfQbN5f"
   },
   "outputs": [],
   "source": [
    "# Disable warnings\n",
    "import warnings\n",
    "warnings.filterwarnings(\"ignore\")\n",
    "\n",
    "from matplotlib import pyplot as plt\n",
    "import numpy as np\n",
    "\n",
    "from pysteps import nowcasts\n",
    "from pysteps.postprocessing.ensemblestats import excprob\n",
    "from pysteps.visualization import plot_precip_field\n",
    "\n",
    "# Set nowcast parameters\n",
    "n_ens_members = 10\n",
    "n_leadtimes = 12\n",
    "seed = 1234 # None gives a random seed number, but for reproducibility (i.e, \n",
    "# every nowcast will give the same perturbations) we set it to a fixed number.\n",
    "\n",
    "# The STEPS nowcast\n",
    "nowcast_method = nowcasts.get_method(\"steps\")\n",
    "precip_forecast = nowcast_method(\n",
    "    precip_finite[-3:, :, :],\n",
    "    motion_field,\n",
    "    timesteps=n_leadtimes,\n",
    "    n_ens_members=n_ens_members,\n",
    "    n_cascade_levels=8,\n",
    "    R_thr=metadata_dbr[\"threshold\"],\n",
    "    kmperpixel=metadata_dbr[\"xpixelsize\"]/1000.0,\n",
    "    timestep=metadata_dbr[\"accutime\"],\n",
    "    noise_method=\"nonparametric\",\n",
    "    vel_pert_method=\"bps\",\n",
    "    probmatching_method=\"cdf\",\n",
    "    mask_method=\"incremental\",\n",
    "    seed=seed,\n",
    "    num_workers=4,\n",
    ")\n",
    "\n",
    "# Back-transform the results from dBR to rain rates\n",
    "precip_forecast = transformation.dB_transform(\n",
    "    precip_forecast, \n",
    "    threshold=metadata_dbr[\"threshold\"], \n",
    "    inverse=True\n",
    "    )[0]"
   ]
  },
  {
   "cell_type": "markdown",
   "metadata": {
    "id": "GjLGNZ7IcbRY"
   },
   "source": [
    "### Visualize the result"
   ]
  },
  {
   "cell_type": "code",
   "execution_count": null,
   "metadata": {
    "id": "0gxBwNVQcZWi"
   },
   "outputs": [],
   "source": [
    "plt.figure(figsize=(16, 16))\n",
    "# First plot the observations\n",
    "for i, j in enumerate(range(2, 13, 3)):\n",
    "    plt.subplot(4, 4, 1 + i)\n",
    "    plot_precip_field(\n",
    "        precip_obs[j], \n",
    "        geodata=metadata, \n",
    "        colorscale=\"STEPS-NL\", \n",
    "        colorbar=False\n",
    "        )\n",
    "    plt.title(f\"Observation at +{(j + 1) * 5} minutes\")\n",
    "\n",
    "# We'll plot the ensemble mean for four lead times\n",
    "precip_forecast_mean = np.mean(precip_forecast[:, :, :, :], axis=0)\n",
    "\n",
    "plt.figure(figsize=(16, 16))\n",
    "for i, j in enumerate(range(2, 13, 3)):\n",
    "    plt.subplot(4, 4, 1 + i)\n",
    "    plot_precip_field(\n",
    "        precip_forecast_mean[j], \n",
    "        geodata=metadata, \n",
    "        colorscale=\"STEPS-NL\", \n",
    "        colorbar=False\n",
    "        )\n",
    "    plt.title(f\"Ensemble mean +{(j + 1) * 5} minutes\")\n",
    "\n",
    "# Then, plot some realizations\n",
    "plt.figure(figsize=(16, 16))\n",
    "for i, j in enumerate(range(2, 13, 3)):\n",
    "    plt.subplot(4, 4, 1 + i)\n",
    "    plot_precip_field(\n",
    "        precip_forecast[0,j], \n",
    "        geodata=metadata, \n",
    "        colorscale=\"STEPS-NL\", \n",
    "        colorbar=False\n",
    "        )\n",
    "    plt.title(f\"Ens. member 1 at +{(j + 1) * 5} minutes\")\n",
    "\n",
    "plt.figure(figsize=(16, 16))\n",
    "for i, j in enumerate(range(2, 13, 3)):\n",
    "    plt.subplot(4, 4, 1 + i)\n",
    "    plot_precip_field(\n",
    "        precip_forecast[9,j], \n",
    "        geodata=metadata, \n",
    "        colorscale=\"STEPS-NL\", \n",
    "        colorbar=False\n",
    "        )\n",
    "    plt.title(f\"Ens. member 10 at +{(j + 1) * 5} minutes\")\n",
    "\n",
    "plt.show()\n",
    "\n"
   ]
  },
  {
   "cell_type": "markdown",
   "metadata": {
    "id": "QIGrdjQibtUD"
   },
   "source": [
    "As you can see from the two shown members of the ensemble, the stochastic forecast mantains the same variance as in the observed rainfall field. Hence, it gives a less smoothed outcome than the ensemble mean and also preserves high-intensity rainfall cells.\n",
    "\n",
    "Another advantage of probabilistic forecasts is that we can visualize the probability of a certain rainfall threshold exceedance. Use the code below to plot such a map and test it for different thresholds."
   ]
  },
  {
   "cell_type": "code",
   "execution_count": null,
   "metadata": {
    "id": "i2tsO3fNcRxj"
   },
   "outputs": [],
   "source": [
    "# Plot the probability of exceeding 1 mm/h (adjust the code and plot it for other probabilities)\n",
    "\n",
    "plt.figure(figsize=(16, 10))\n",
    "for i, j in enumerate(range(2, 13, 3)):\n",
    "  # Compute exceedence probabilities for a 1.0 mm/h threshold\n",
    "  P = excprob(precip_forecast[:, j, :, :], 1.0)\n",
    "  plt.subplot(1, 4, 1 + i)\n",
    "  plot_precip_field(\n",
    "      P, \n",
    "      geodata=metadata, \n",
    "      ptype=\"prob\",\n",
    "      units=\"mm/h\", \n",
    "      probthr=0.5,\n",
    "      colorbar=False,\n",
    "      )\n",
    "  plt.title(f\"Exceedance prob. at +{(j + 1) * 5} minutes\")\n",
    "\n",
    "plt.show()"
   ]
  },
  {
   "cell_type": "markdown",
   "metadata": {
    "id": "Kl9huLr2dYaz"
   },
   "source": [
    "## Ensemble forecast verification\n",
    "Pysteps includes a number of verification metrics to help users to analyze the general characteristics of the nowcasts in terms of consistency and quality (or goodness). In contrast to the verification of the deterministic nowcast, we have a 10-member ensemble that we want to verify. As every member contains valuable information, it is better not to use the deterministic verification metrics on the ensemble mean, but to use a metric that can take the entire ensemble into account. \n",
    "\n",
    "Because of time constraint, we will only plot one metric (the reliability diagram), but if you have time, have a look at the [verification module](https://pysteps.readthedocs.io/en/latest/pysteps_reference/verification.html) of pysteps and implement some metrics yourself.\n",
    "\n",
    "Run the code block below and have a look at the resulting reliability curves for different thresholds and different lead times (hence, adjust the code yourself)."
   ]
  },
  {
   "cell_type": "code",
   "execution_count": null,
   "metadata": {
    "id": "mO-x_MeudXmL"
   },
   "outputs": [],
   "source": [
    "from pysteps import verification\n",
    "from pysteps.postprocessing import ensemblestats\n",
    "\n",
    "# We start with determining the exceedance probability in the forecast for a\n",
    "# threshold of 1 mm/h (indicated as 1.0 below) for 1-h lead time (the last lead \n",
    "# time in the forecast, indicated as [:, -1, :, :] below).\n",
    "probability_forecast = ensemblestats.excprob(\n",
    "    precip_forecast[:, -1, :, :], \n",
    "    1.0, \n",
    "    ignore_nan=True)\n",
    "\n",
    "# Reliability diagram\n",
    "reldiag = verification.reldiag_init(1.0)\n",
    "verification.reldiag_accum(\n",
    "    reldiag=reldiag, \n",
    "    P_f=probability_forecast, \n",
    "    X_o=precip_obs[-1, :, :],\n",
    ")\n",
    "fig, ax = plt.subplots()\n",
    "verification.plot_reldiag(reldiag, ax)\n",
    "ax.set_title(\"Reliability diagram (+%i min)\" % (n_leadtimes * timestep))\n",
    "plt.show()"
   ]
  },
  {
   "cell_type": "markdown",
   "metadata": {
    "id": "mfZQhGV2eSrh"
   },
   "source": [
    "Is this a good result? Ask Jan Verkade for a piece of his knowledge about reliability diagrams. :)"
   ]
  },
  {
   "cell_type": "markdown",
   "metadata": {
    "id": "v8lsnIwAdBd9"
   },
   "source": [
    "## LINDA-P forecast\n",
    "\n",
    "If time allows, construct a LINDA-P forecast using the previous code blocks and the starting point below. Also visualize it."
   ]
  },
  {
   "cell_type": "code",
   "execution_count": null,
   "metadata": {
    "id": "CvbkUxhZdJm2"
   },
   "outputs": [],
   "source": [
    "# Compute the probabilistic LINDA nowcast\n",
    "nowcast_linda = nowcasts.linda.forecast(\n",
    "    precip_fields=...,\n",
    "    advection_field=...,\n",
    "    timesteps=...,\n",
    "    max_num_features=15,\n",
    "    add_perturbations=True,\n",
    "    num_ens_members=...,\n",
    "    num_workers=4,\n",
    "    seed=None,\n",
    "    measure_time=True,\n",
    ")[0]"
   ]
  },
  {
   "cell_type": "markdown",
   "metadata": {
    "id": "z_9lJbvmey20"
   },
   "source": [
    "This was a very basic start to nowcasting. We hope that you have a basic understanding of the necessary steps to take, possible pitfalls of the method and the options you have when implementing a nowcasting model for a client. "
   ]
  }
 ],
 "metadata": {
  "colab": {
   "provenance": []
  },
  "kernelspec": {
   "display_name": "Python 3 (ipykernel)",
   "language": "python",
   "name": "python3"
  },
  "language_info": {
   "codemirror_mode": {
    "name": "ipython",
    "version": 3
   },
   "file_extension": ".py",
   "mimetype": "text/x-python",
   "name": "python",
   "nbconvert_exporter": "python",
   "pygments_lexer": "ipython3",
   "version": "3.7.9"
  },
  "vscode": {
   "interpreter": {
    "hash": "31f2aee4e71d21fbe5cf8b01ff0e069b9275f58929596ceb00d14d90e3e16cd6"
   }
  }
 },
 "nbformat": 4,
 "nbformat_minor": 1
}
